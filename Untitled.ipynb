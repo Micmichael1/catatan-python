{
 "cells": [
  {
   "cell_type": "code",
   "execution_count": null,
   "id": "possible-female",
   "metadata": {},
   "outputs": [],
   "source": [
    "numdata = [ 1, 7, 17, 1717 ]\n",
    "chardata = 'xyz'\n",
    "strdata = \"x\"\n",
    "logitdata = True\n",
    "listdata = [ [3, 4, 34] , 'hello' , 4 ]\n",
    "dictdata = dict()\n",
    "dictdata['name'] = 'Mike'\n",
    "dictdata['age'] = 25\n",
    "dictdata['occupation'] = 'Nerdoscientist'"
   ]
  },
  {
   "cell_type": "code",
   "execution_count": null,
   "id": "finnish-event",
   "metadata": {},
   "outputs": [],
   "source": []
  },
  {
   "cell_type": "code",
   "execution_count": null,
   "id": "latin-hebrew",
   "metadata": {},
   "outputs": [],
   "source": []
  }
 ],
 "metadata": {
  "kernelspec": {
   "display_name": "Python 3",
   "language": "python",
   "name": "python3"
  },
  "language_info": {
   "name": ""
  }
 },
 "nbformat": 4,
 "nbformat_minor": 5
}
