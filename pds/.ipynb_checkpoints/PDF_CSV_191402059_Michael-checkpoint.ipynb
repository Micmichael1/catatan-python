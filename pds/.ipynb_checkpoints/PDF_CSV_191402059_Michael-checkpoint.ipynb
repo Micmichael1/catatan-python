{
 "cells": [
  {
   "cell_type": "code",
   "execution_count": 1,
   "id": "loaded-danish",
   "metadata": {},
   "outputs": [],
   "source": [
    "# Mengambil data per baris sesuai dengan jumlah kolom per table\n",
    "# Kemudian memasukkan ke list per table yang nantinya akan digabungkan dengan table lainnya\n",
    "def split_line(columns, page, list_per_table) :\n",
    "    page = page[:-1]\n",
    "    for part in range(len(page) // columns) :\n",
    "        list_per_line = []\n",
    "        for i in range(columns) :\n",
    "            list_per_line.append(page[part * columns + i])\n",
    "        list_per_table.append(list_per_line)\n",
    "    return list_per_table"
   ]
  },
  {
   "cell_type": "code",
   "execution_count": 2,
   "id": "saving-canadian",
   "metadata": {},
   "outputs": [],
   "source": [
    "# Mengambil data dari pdf dan kemudian dikirim ke fungsi split_line untuk dimasukkan kedalam list\n",
    "from PyPDF2 import PdfFileReader\n",
    "pdf_document = \"ObesityAnalysis.pdf\"\n",
    "with open(pdf_document, \"rb\") as filehandle:\n",
    "    pdf = PdfFileReader(filehandle)\n",
    "    all_table_list=[]\n",
    "    list_per_table=[]\n",
    "    batas_halaman=[0,160,320,480,640]\n",
    "    columns_per_table=[7,9,8,8]\n",
    "    for i in range(4):\n",
    "        for page in range(batas_halaman[i],batas_halaman[i+1]):\n",
    "            pages = pdf.getPage(page)\n",
    "            halaman=pages.extractText().split(\"\\n\")\n",
    "            list_per_table=split_line(columns_per_table[i], halaman, list_per_table)\n",
    "        if(len(all_table_list)==0):\n",
    "            all_table_list=list(list_per_table)\n",
    "        else:\n",
    "            for baris in range(len(all_table_list)):\n",
    "                all_table_list[baris]= all_table_list[baris] + list_per_table[baris]\n",
    "        list_per_table=[]"
   ]
  },
  {
   "cell_type": "code",
   "execution_count": 3,
   "id": "executed-thompson",
   "metadata": {},
   "outputs": [],
   "source": [
    "# Menuliskan list yang berisi data perbaris semua table yang sudah digabungkan ke csv\n",
    "import csv\n",
    "with open(\"191402059_Michael_CSV.csv\", 'w',newline='') as csvfile:\n",
    "    csvwriter = csv.writer(csvfile)\n",
    "    for i in range(len(all_table_list)):\n",
    "        csvwriter.writerow(all_table_list[i])"
   ]
  }
 ],
 "metadata": {
  "kernelspec": {
   "display_name": "Python 3",
   "language": "python",
   "name": "python3"
  },
  "language_info": {
   "codemirror_mode": {
    "name": "ipython",
    "version": 3
   },
   "file_extension": ".py",
   "mimetype": "text/x-python",
   "name": "python",
   "nbconvert_exporter": "python",
   "pygments_lexer": "ipython3",
   "version": "3.9.0"
  }
 },
 "nbformat": 4,
 "nbformat_minor": 5
}
